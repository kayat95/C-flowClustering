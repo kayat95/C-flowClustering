{
 "cells": [
  {
   "cell_type": "code",
   "execution_count": 1,
   "metadata": {
    "collapsed": true
   },
   "outputs": [],
   "source": [
    "import pandas as pd\n",
    "import numpy as np\n",
    "import datetime\n",
    "import csv\n",
    "import math"
   ]
  },
  {
   "cell_type": "code",
   "execution_count": 2,
   "metadata": {
    "collapsed": true
   },
   "outputs": [],
   "source": [
    "# data source: http://www.unb.ca/cic/research/datasets/botnet.html\n",
    "# to process pcap file, e.g. \"ISCX_Botnet-Training.pcap\" in tshark, \n",
    "# install Wireshark and call tshark from command line\n",
    "# tshark -nr ISCX_Botnet-Training.pcap -T fields -E header=y -e frame.time_relative -e frame.len -e ip.src -e ip.dst -e tcp.srcport -e tcp.dstport -e udp.srcport -e udp.dstport  > iscxTrainPCAP.txt\n",
    "# because of irregularity in frame.time_relative after line 1201967\n",
    "# head -n 1201967 iscxTrainPCAP.txt > train.txt"
   ]
  },
  {
   "cell_type": "code",
   "execution_count": 3,
   "metadata": {
    "collapsed": false
   },
   "outputs": [
    {
     "name": "stdout",
     "output_type": "stream",
     "text": [
      "0:00:02\n"
     ]
    }
   ],
   "source": [
    "#Reads processed file\n",
    "a = datetime.datetime.now().replace(microsecond=0)\n",
    "df1 = pd.read_table(\"train.txt\")\n",
    "df1 = df1.dropna(axis = 0, subset= ['ip.src'])\n",
    "df1 = df1.reset_index(drop=True)\n",
    "\n",
    "#this file had unreliable frame_time_relative after line 1201967\n",
    "#data = pd.read_table(\"iscxTrainPCAP.txt\")\n",
    "#data = data.dropna(axis = 0, subset= ['ip.src'])\n",
    "#data = data.reset_index(drop=True)\n",
    "#data.tail(5)\n",
    "b = datetime.datetime.now().replace(microsecond=0)\n",
    "print(b-a)"
   ]
  },
  {
   "cell_type": "code",
   "execution_count": 4,
   "metadata": {
    "collapsed": false
   },
   "outputs": [
    {
     "name": "stdout",
     "output_type": "stream",
     "text": [
      "0:00:01\n"
     ]
    }
   ],
   "source": [
    "# scans malicious IP address list from http://www.unb.ca/cic/research/datasets/botnet.html stored in BotIPs.txt\n",
    "#gives each flow 'bot' attribute (True or False)\n",
    "a = datetime.datetime.now().replace(microsecond=0)\n",
    "botIPs = []\n",
    "with open(\"BotIPs.txt\", 'r') as f:\n",
    "    reader = csv.reader(f, delimiter = '\\t')\n",
    "    for ip in reader:\n",
    "        botIPs.append(ip)\n",
    "\n",
    "botIPs = [val for sublist in botIPs for val in sublist]\n",
    "for i in botIPs:\n",
    "    if (len(i) == 0):\n",
    "        botIPs.remove(i)\n",
    "        \n",
    "df1['bot'] = df1['ip.src'].map(lambda x: True if x in botIPs else False)\n",
    "b = datetime.datetime.now().replace(microsecond=0)\n",
    "print(b-a)"
   ]
  },
  {
   "cell_type": "code",
   "execution_count": 5,
   "metadata": {
    "collapsed": false
   },
   "outputs": [
    {
     "data": {
      "text/plain": [
       "(1187635, 9)"
      ]
     },
     "execution_count": 5,
     "metadata": {},
     "output_type": "execute_result"
    }
   ],
   "source": [
    "df = df1\n",
    "#should be (1187635, 9)\n",
    "df.shape"
   ]
  },
  {
   "cell_type": "code",
   "execution_count": null,
   "metadata": {
    "collapsed": false
   },
   "outputs": [
    {
     "name": "stdout",
     "output_type": "stream",
     "text": [
      "12828\n",
      "filling dict\n"
     ]
    }
   ],
   "source": [
    "##starts separating by sourceIPs\n",
    "a = datetime.datetime.now().replace(microsecond=0)\n",
    "SourceIPs = list(set(df['ip.src']))\n",
    "print(len(SourceIPs))\n",
    "#counter = 0\n",
    "sourceIPs = {}\n",
    "for s in SourceIPs:\n",
    "    sourceIPs[s] = []\n",
    "    #counter += 1\n",
    "    #print(counter)\n",
    "print(\"filling dict\") \n",
    "for i in range(df.shape[0]):\n",
    "    #print(\"i = {}\".format(i))\n",
    "    for s in sourceIPs:\n",
    "        if df.iloc[i]['ip.src'] == s:\n",
    "            sourceIPs[s].append(df.iloc[i])\n",
    "b = datetime.datetime.now().replace(microsecond=0)\n",
    "print(b-a)"
   ]
  },
  {
   "cell_type": "code",
   "execution_count": null,
   "metadata": {
    "collapsed": true
   },
   "outputs": [],
   "source": [
    "##then filters by destIPs\n",
    "a = datetime.datetime.now().replace(microsecond=0)\n",
    "DestIPs = list(set(df['ip.dst'][~pd.isnull(df['ip.dst'])]))\n",
    "print(len(DestIPs))\n",
    "destIPs = {}\n",
    "#counter = 0\n",
    "for d in DestIPs:\n",
    "    destIPs[d] = []\n",
    "    #counter += 1\n",
    "    #print(counter)\n",
    "\n",
    "print(\"filling dict\")    \n",
    "for key, value in sourceIPs.items():\n",
    "    for d in DestIPs:\n",
    "        for i in range(len(value)):\n",
    "            if value[i]['ip.dst'] == d:\n",
    "                destIPs[d].append(value[i])\n",
    "b = datetime.datetime.now().replace(microsecond=0)\n",
    "print(b-a)"
   ]
  },
  {
   "cell_type": "code",
   "execution_count": null,
   "metadata": {
    "collapsed": true
   },
   "outputs": [],
   "source": [
    "#sorts into TCP C-flows\n",
    "a = datetime.datetime.now().replace(microsecond=0)\n",
    "TCPSrcs = list(set(df['tcp.srcport'][~pd.isnull(df['tcp.srcport'])]))\n",
    "TCPsrcs = {}\n",
    "for t in TCPSrcs:\n",
    "    TCPsrcs[t] = []\n",
    "for key, value in destIPs.items():\n",
    "    for t in TCPSrcs:\n",
    "        for i in range(len(value)):\n",
    "            if value[i]['tcp.srcport'] == t:\n",
    "                TCPsrcs[t].append(value[i])\n",
    "\n",
    "TCPDsts = list(set(df['tcp.dstport'][~pd.isnull(df['tcp.dstport'])]))\n",
    "#len(TCPDsts)\n",
    "TCPdsts = {}\n",
    "for t in TCPDsts:\n",
    "    TCPdsts[t] = []    \n",
    "for key, value in TCPsrcs.items():\n",
    "    for t in TCPDsts:\n",
    "        for i in range(len(value)):\n",
    "            if value[i]['tcp.dstport'] == t:\n",
    "                TCPdsts[t].append(value[i])\n",
    "            \n",
    "for k in list(TCPdsts.keys()):\n",
    "    if len(TCPdsts[k]) == 0:\n",
    "        del TCPdsts[k]\n",
    "\n",
    "# should be 46 in this dataset\n",
    "len(TCPdsts)\n",
    "b = datetime.datetime.now().replace(microsecond=0)\n",
    "print(b-a)"
   ]
  },
  {
   "cell_type": "code",
   "execution_count": null,
   "metadata": {
    "collapsed": true
   },
   "outputs": [],
   "source": [
    "#sorts into UDP C-flows\n",
    "a = datetime.datetime.now().replace(microsecond=0)\n",
    "UDPSrcs = list(set(df['udp.srcport'][~pd.isnull(df['udp.srcport'])]))\n",
    "UDPsrcs = {}\n",
    "for u in UDPSrcs:\n",
    "    UDPsrcs[u] = []\n",
    "for key, value in destIPs.items():\n",
    "    for u in UDPSrcs:\n",
    "        for i in range(len(value)):\n",
    "            if value[i]['udp.srcport'] == u:\n",
    "                UDPsrcs[u].append(value[i])\n",
    "\n",
    "UDPDsts = list(set(df['udp.dstport'][~pd.isnull(df['udp.dstport'])]))\n",
    "UDPdsts = {}\n",
    "for u in UDPDsts:\n",
    "    UDPdsts[u] = []    \n",
    "for key, value in UDPsrcs.items():\n",
    "    for u in UDPDsts:\n",
    "        for i in range(len(value)):\n",
    "            if value[i]['udp.dstport'] == u:\n",
    "                if not pd.isnull(value[i]['udp.dstport']):\n",
    "                    UDPdsts[u].append(value[i])  \n",
    "                    \n",
    "for k in list(UDPdsts.keys()):\n",
    "    if len(UDPdsts[k]) == 0:\n",
    "        del UDPdsts[k]\n",
    "# should be 5 in this dataset\n",
    "len(UDPdsts)\n",
    "b = datetime.datetime.now().replace(microsecond=0)\n",
    "print(b-a)"
   ]
  },
  {
   "cell_type": "code",
   "execution_count": null,
   "metadata": {
    "collapsed": true
   },
   "outputs": [],
   "source": [
    "# summarizes C-flow in 5-element vector: bot (0/1), bpp (bits/packet), bps (bits/s), \n",
    "# pps (packets/s), ppf (packets/flow)\n",
    "def CflowVectorizer(flow):\n",
    "    ppf = len(flow)\n",
    "    if ppf > 0:\n",
    "        cFlow = np.zeros(5)\n",
    "        totalBytes = 0\n",
    "        try:\n",
    "            startTime = flow[0]['frame.time_relative']\n",
    "            endTime = flow[ppf-1]['frame.time_relative']\n",
    "            for j in range(ppf):\n",
    "                if flow[j]['bot'] == True:\n",
    "                    bot = 1\n",
    "                else:\n",
    "                    bot = 0\n",
    "                if flow[j]['frame.time_relative'] < startTime:\n",
    "                    startTime = flow[j]['frame.time_relative']\n",
    "                if flow[j]['frame.time_relative'] > endTime:\n",
    "                    endTime = flow[j]['frame.time_relative']\n",
    "                totalBytes += flow[j]['frame.len']\n",
    "            duration = endTime-startTime\n",
    "            pps = ppf/duration\n",
    "            bpp = totalBytes/ppf\n",
    "            bps = totalBytes/duration\n",
    "        except IndexError:\n",
    "            pass\n",
    "        cFlow[0] = bot\n",
    "        cFlow[1] = bpp\n",
    "        cFlow[2] = bps\n",
    "        cFlow[3] = pps\n",
    "        cFlow[4] = ppf\n",
    "            \n",
    "    return cFlow"
   ]
  },
  {
   "cell_type": "code",
   "execution_count": null,
   "metadata": {
    "collapsed": true
   },
   "outputs": [],
   "source": [
    "# vectorizes C-flows \n",
    "a = datetime.datetime.now().replace(microsecond=0)\n",
    "TCPflows = list(TCPdsts.values())\n",
    "UDPflows = list(UDPdsts.values())\n",
    "allFlows = TCPflows + UDPflows\n",
    "CFLOWS = []\n",
    "for f in allFlows:\n",
    "    CFLOWS.append(CflowVectorizer(f))\n",
    "cFlowDF = pd.DataFrame(CFLOWS, columns = ['bot', 'bpp' ,'bps', 'pps', 'ppf'])\n",
    "b = datetime.datetime.now().replace(microsecond=0)\n",
    "print(b-a)"
   ]
  },
  {
   "cell_type": "code",
   "execution_count": null,
   "metadata": {
    "collapsed": true
   },
   "outputs": [],
   "source": [
    "def bins(flows):\n",
    "    quantiles = [5, 10, 15, 20, 25, 30, 40, 50, 60, 70, 80, 90, 100]\n",
    "    kBin = []\n",
    "    for q in quantiles:\n",
    "        kBin.append(np.percentile(flows, q))\n",
    "    return kBin"
   ]
  },
  {
   "cell_type": "code",
   "execution_count": null,
   "metadata": {
    "collapsed": true
   },
   "outputs": [],
   "source": [
    "# k-bins : 13 (binning C-flows so all elements are range 0-12)\n",
    "a = datetime.datetime.now().replace(microsecond=0)\n",
    "bppBin = bins(cFlowDF['bpp'])\n",
    "bpsBin = bins(cFlowDF['bps'])\n",
    "ppsBin = bins(cFlowDF['pps'])\n",
    "ppfBin = bins(cFlowDF['ppf'])\n",
    "b = datetime.datetime.now().replace(microsecond=0)\n",
    "print(b-a)"
   ]
  },
  {
   "cell_type": "code",
   "execution_count": null,
   "metadata": {
    "collapsed": true
   },
   "outputs": [],
   "source": [
    "# normalizes C-flows so all elements are in range 0-12\n",
    "a = datetime.datetime.now().replace(microsecond=0)\n",
    "# 13 bins\n",
    "nBins = len(bppBin)   \n",
    "for i in range(cFlowDF.shape[0]): \n",
    "    flow = cFlowDF.ix[i]\n",
    "    for k in range(1,nBins):\n",
    "        if flow['bpp'] <= bppBin[k] and flow['bpp'] > bppBin[k-1]:\n",
    "            flow['bpp'] = k-1 \n",
    "        if flow['bps'] <= bpsBin[k] and flow['bps'] > bpsBin[k-1]:\n",
    "            flow['bps'] = k-1\n",
    "        if flow['pps'] <= ppsBin[k] and flow['bpp'] > ppsBin[k-1]:\n",
    "            flow['pps'] = k-1\n",
    "        if flow['ppf'] <= ppfBin[k] and flow['ppf'] > ppfBin[k-1]:\n",
    "            flow['ppf'] = k-1\n",
    "    if flow['bpp'] > 11:\n",
    "        flow['bpp'] = 12\n",
    "    if flow['bps'] > 11:\n",
    "        flow['bps'] = 12\n",
    "    if flow['pps'] > 11:\n",
    "        flow['pps'] = 12\n",
    "    if flow['ppf'] > 11:\n",
    "        flow['ppf'] = 12\n",
    "b = datetime.datetime.now().replace(microsecond=0)\n",
    "print(b-a)"
   ]
  },
  {
   "cell_type": "code",
   "execution_count": null,
   "metadata": {
    "collapsed": true
   },
   "outputs": [],
   "source": [
    "# calculates entropy of each cluster\n",
    "def calculateEntropy(cluster):\n",
    "    numBots = sum(cluster['bot'])\n",
    "    total = float(cluster.shape[0])\n",
    "    pBot = numBots / total\n",
    "    pNot = (total-numBots) / total\n",
    "    try:\n",
    "        entropy = -pBot * math.log2(pBot) - pNot * math.log2(pNot)\n",
    "    except ValueError:\n",
    "        entropy = 0\n",
    "    entropy = entropy * (total / cFlowDF.shape[0])\n",
    "    return entropy"
   ]
  },
  {
   "cell_type": "code",
   "execution_count": null,
   "metadata": {
    "collapsed": true
   },
   "outputs": [],
   "source": [
    "# KMeans clustering on c-flows\n",
    "\n",
    "from sklearn.cluster import KMeans\n",
    "import matplotlib.pyplot as plt\n",
    "\n",
    "# for some reason this throws an error\n",
    "# kMeans = [x for x in range(5)]\n",
    "\n",
    "# so initialize means manually\n",
    "kMeans = [2, 3, 4, 5, 6, 7, 8, 9, 10, 11, 12, 13]\n",
    "X = cFlowDF\n",
    "\n",
    "clusts = {}\n",
    "for k in kMeans:\n",
    "    clusts[k] = 0\n",
    "    kmeans = KMeans(n_clusters=k, random_state=0).fit(X)\n",
    "    cFlowDF['predicted_cluster'] = kmeans.fit_predict(X)\n",
    "    E = 0\n",
    "    for i in range(k):\n",
    "        c = cFlowDF.where(cFlowDF['predicted_cluster'] == i).dropna()\n",
    "        E += calculateEntropy(c)\n",
    "    clusts[k] = E\n",
    "    \n",
    "plt.plot(list(clusts.values()))\n",
    "plt.xlabel('n_clusters')\n",
    "plt.ylabel('entropy')\n",
    "plt.show()"
   ]
  },
  {
   "cell_type": "code",
   "execution_count": null,
   "metadata": {
    "collapsed": true
   },
   "outputs": [],
   "source": []
  }
 ],
 "metadata": {
  "kernelspec": {
   "display_name": "Python [default]",
   "language": "python",
   "name": "python3"
  },
  "language_info": {
   "codemirror_mode": {
    "name": "ipython",
    "version": 3
   },
   "file_extension": ".py",
   "mimetype": "text/x-python",
   "name": "python",
   "nbconvert_exporter": "python",
   "pygments_lexer": "ipython3",
   "version": "3.5.2"
  }
 },
 "nbformat": 4,
 "nbformat_minor": 2
}
